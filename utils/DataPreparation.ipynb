{
 "cells": [
  {
   "cell_type": "markdown",
   "metadata": {},
   "source": [
    "# Train Valid Test 8:1:1 분리"
   ]
  },
  {
   "cell_type": "code",
   "execution_count": 10,
   "metadata": {},
   "outputs": [],
   "source": [
    "import os\n",
    "import shutil\n",
    "from sklearn.model_selection import train_test_split"
   ]
  },
  {
   "cell_type": "code",
   "execution_count": 11,
   "metadata": {},
   "outputs": [],
   "source": [
    "# 원본 데이터 경로\n",
    "original_dataset_dir = './train'"
   ]
  },
  {
   "cell_type": "code",
   "execution_count": 12,
   "metadata": {},
   "outputs": [],
   "source": [
    "# 데이터를 분할하여 저장할 디렉토리 생성\n",
    "base_dir = '.'  # 적절한 기본 디렉토리를 설정합니다.\n",
    "if not os.path.exists(base_dir):\n",
    "    os.mkdir(base_dir)\n",
    "\n",
    "train_dir = os.path.join(base_dir, 'train')\n",
    "valid_dir = os.path.join(base_dir, 'valid')\n",
    "test_dir = os.path.join(base_dir, 'test')"
   ]
  },
  {
   "cell_type": "code",
   "execution_count": 17,
   "metadata": {},
   "outputs": [
    {
     "name": "stdout",
     "output_type": "stream",
     "text": [
      "Notice: '.\\train' directory already exists.\n",
      "Notice: '.\\valid' directory already exists.\n",
      "Notice: '.\\test' directory already exists.\n",
      "Notice: '.\\train\\train_real_images' directory already exists.\n",
      "Notice: '.\\train\\train_fake_images' directory already exists.\n",
      "Notice: '.\\valid\\valid_real_images' directory already exists.\n",
      "Notice: '.\\valid\\valid_fake_images' directory already exists.\n",
      "Notice: '.\\test\\test_real_images' directory already exists.\n",
      "Notice: '.\\test\\test_fake_images' directory already exists.\n"
     ]
    },
    {
     "ename": "FileNotFoundError",
     "evalue": "[WinError 3] 지정된 경로를 찾을 수 없습니다: './train\\\\real_images'",
     "output_type": "error",
     "traceback": [
      "\u001b[1;31m---------------------------------------------------------------------------\u001b[0m",
      "\u001b[1;31mFileNotFoundError\u001b[0m                         Traceback (most recent call last)",
      "\u001b[1;32mc:\\Users\\user\\Desktop\\Workspace\\Thesis\\generative_image_detection\\Personal Research\\Resarch 1\\DataPreparation.ipynb 셀 5\u001b[0m line \u001b[0;36m3\n\u001b[0;32m     <a href='vscode-notebook-cell:/c%3A/Users/user/Desktop/Workspace/Thesis/generative_image_detection/Personal%20Research/Resarch%201/DataPreparation.ipynb#W4sZmlsZQ%3D%3D?line=27'>28</a>\u001b[0m real_images_dir \u001b[39m=\u001b[39m os\u001b[39m.\u001b[39mpath\u001b[39m.\u001b[39mjoin(original_dataset_dir, \u001b[39m'\u001b[39m\u001b[39mreal_images\u001b[39m\u001b[39m'\u001b[39m)\n\u001b[0;32m     <a href='vscode-notebook-cell:/c%3A/Users/user/Desktop/Workspace/Thesis/generative_image_detection/Personal%20Research/Resarch%201/DataPreparation.ipynb#W4sZmlsZQ%3D%3D?line=28'>29</a>\u001b[0m fake_images_dir \u001b[39m=\u001b[39m os\u001b[39m.\u001b[39mpath\u001b[39m.\u001b[39mjoin(original_dataset_dir, \u001b[39m'\u001b[39m\u001b[39mfake_images\u001b[39m\u001b[39m'\u001b[39m)\n\u001b[1;32m---> <a href='vscode-notebook-cell:/c%3A/Users/user/Desktop/Workspace/Thesis/generative_image_detection/Personal%20Research/Resarch%201/DataPreparation.ipynb#W4sZmlsZQ%3D%3D?line=30'>31</a>\u001b[0m real_images \u001b[39m=\u001b[39m [f \u001b[39mfor\u001b[39;00m f \u001b[39min\u001b[39;00m os\u001b[39m.\u001b[39;49mlistdir(real_images_dir) \u001b[39mif\u001b[39;00m f\u001b[39m.\u001b[39mendswith(\u001b[39m'\u001b[39m\u001b[39m.png\u001b[39m\u001b[39m'\u001b[39m)]\n\u001b[0;32m     <a href='vscode-notebook-cell:/c%3A/Users/user/Desktop/Workspace/Thesis/generative_image_detection/Personal%20Research/Resarch%201/DataPreparation.ipynb#W4sZmlsZQ%3D%3D?line=31'>32</a>\u001b[0m fake_images \u001b[39m=\u001b[39m [f \u001b[39mfor\u001b[39;00m f \u001b[39min\u001b[39;00m os\u001b[39m.\u001b[39mlistdir(fake_images_dir) \u001b[39mif\u001b[39;00m f\u001b[39m.\u001b[39mendswith(\u001b[39m'\u001b[39m\u001b[39m.png\u001b[39m\u001b[39m'\u001b[39m)]\n",
      "\u001b[1;31mFileNotFoundError\u001b[0m: [WinError 3] 지정된 경로를 찾을 수 없습니다: './train\\\\real_images'"
     ]
    }
   ],
   "source": [
    "# 디렉토리 생성 함수\n",
    "def create_directory(dir_name):\n",
    "    if not os.path.exists(dir_name):\n",
    "        os.mkdir(dir_name)\n",
    "    else:\n",
    "        print(f\"Notice: '{dir_name}' directory already exists.\")\n",
    "\n",
    "# 필요한 모든 디렉토리 생성\n",
    "create_directory(train_dir)\n",
    "create_directory(valid_dir)\n",
    "create_directory(test_dir)\n",
    "\n",
    "train_real_dir = os.path.join(train_dir, 'train_real_images')\n",
    "train_fake_dir = os.path.join(train_dir, 'train_fake_images')\n",
    "valid_real_dir = os.path.join(valid_dir, 'valid_real_images')\n",
    "valid_fake_dir = os.path.join(valid_dir, 'valid_fake_images')\n",
    "test_real_dir = os.path.join(test_dir, 'test_real_images')\n",
    "test_fake_dir = os.path.join(test_dir, 'test_fake_images')\n",
    "\n",
    "create_directory(train_real_dir)\n",
    "create_directory(train_fake_dir)\n",
    "create_directory(valid_real_dir)\n",
    "create_directory(valid_fake_dir)\n",
    "create_directory(test_real_dir)\n",
    "create_directory(test_fake_dir)\n",
    "\n",
    "# 실제 및 가짜 이미지 경로 설정\n",
    "real_images_dir = os.path.join(original_dataset_dir, 'real_images')\n",
    "fake_images_dir = os.path.join(original_dataset_dir, 'fake_images')\n",
    "\n",
    "real_images = [f for f in os.listdir(real_images_dir) if f.endswith('.png')]\n",
    "fake_images = [f for f in os.listdir(fake_images_dir) if f.endswith('.png')]"
   ]
  },
  {
   "cell_type": "code",
   "execution_count": 14,
   "metadata": {},
   "outputs": [],
   "source": [
    "# 데이터 분할 (train: 80%, valid: 10%, test: 10%)\n",
    "train_real, temp_real = train_test_split(real_images, test_size=0.2, random_state=42)\n",
    "valid_real, test_real = train_test_split(temp_real, test_size=0.5, random_state=42)\n",
    "\n",
    "train_fake, temp_fake = train_test_split(fake_images, test_size=0.2, random_state=42)\n",
    "valid_fake, test_fake = train_test_split(temp_fake, test_size=0.5, random_state=42)"
   ]
  },
  {
   "cell_type": "code",
   "execution_count": 15,
   "metadata": {},
   "outputs": [],
   "source": [
    "# 파일을 해당 디렉토리로 이동하는 함수\n",
    "def move_files(file_list, src_dir, target_dir):\n",
    "    for file_name in file_list:\n",
    "        shutil.move(os.path.join(src_dir, file_name), target_dir)\n",
    "\n",
    "# 이미지 파일 이동\n",
    "move_files(train_real, real_images_dir, train_real_dir)\n",
    "move_files(valid_real, real_images_dir, valid_real_dir)\n",
    "move_files(test_real, real_images_dir, test_real_dir)\n",
    "\n",
    "move_files(train_fake, fake_images_dir, train_fake_dir)\n",
    "move_files(valid_fake, fake_images_dir, valid_fake_dir)\n",
    "move_files(test_fake, fake_images_dir, test_fake_dir)"
   ]
  },
  {
   "cell_type": "code",
   "execution_count": null,
   "metadata": {},
   "outputs": [],
   "source": []
  },
  {
   "cell_type": "markdown",
   "metadata": {},
   "source": [
    "# 변환"
   ]
  },
  {
   "cell_type": "code",
   "execution_count": 4,
   "metadata": {},
   "outputs": [],
   "source": [
    "# 데이터 8:2 분리\n",
    "import os\n",
    "import shutil\n",
    "from sklearn.model_selection import train_test_split\n",
    "\n",
    "# 원본 데이터 경로\n",
    "original_dataset_dir = './FakeImageDetection_Dataset'\n",
    "\n",
    "# 데이터를 분할하여 저장할 디렉토리 생성\n",
    "base_dir = './FakeImageDetection_Dataset'  # 적절한 기본 디렉토리를 설정합니다.\n",
    "if not os.path.exists(base_dir):\n",
    "    os.mkdir(base_dir)\n",
    "\n",
    "train_dir = os.path.join(base_dir, 'train')\n",
    "valid_dir = os.path.join(base_dir, 'valid')"
   ]
  },
  {
   "cell_type": "code",
   "execution_count": 6,
   "metadata": {},
   "outputs": [
    {
     "name": "stdout",
     "output_type": "stream",
     "text": [
      "Notice: './FakeImageDetection_Dataset\\train' directory already exists.\n",
      "Notice: './FakeImageDetection_Dataset\\valid' directory already exists.\n",
      "Notice: './FakeImageDetection_Dataset\\train\\train_real_images' directory already exists.\n",
      "Notice: './FakeImageDetection_Dataset\\train\\train_fake_images' directory already exists.\n",
      "Notice: './FakeImageDetection_Dataset\\valid\\valid_real_images' directory already exists.\n",
      "Notice: './FakeImageDetection_Dataset\\valid\\valid_fake_images' directory already exists.\n"
     ]
    }
   ],
   "source": [
    "# 디렉토리 생성 함수\n",
    "def create_directory(dir_name):\n",
    "    if not os.path.exists(dir_name):\n",
    "        os.mkdir(dir_name)\n",
    "    else:\n",
    "        print(f\"Notice: '{dir_name}' directory already exists.\")\n",
    "\n",
    "# 필요한 모든 디렉토리 생성\n",
    "create_directory(train_dir)\n",
    "create_directory(valid_dir)\n",
    "\n",
    "train_real_dir = os.path.join(train_dir, 'train_real_images')\n",
    "train_fake_dir = os.path.join(train_dir, 'train_fake_images')\n",
    "valid_real_dir = os.path.join(valid_dir, 'valid_real_images')\n",
    "valid_fake_dir = os.path.join(valid_dir, 'valid_fake_images')\n",
    "\n",
    "create_directory(train_real_dir)\n",
    "create_directory(train_fake_dir)\n",
    "create_directory(valid_real_dir)\n",
    "create_directory(valid_fake_dir)\n",
    "\n",
    "# 실제 및 가짜 이미지 경로 설정\n",
    "real_images_dir = os.path.join(original_dataset_dir, 'real')\n",
    "fake_images_dir = os.path.join(original_dataset_dir, 'fake')\n",
    "\n",
    "real_images = [f for f in os.listdir(real_images_dir) if f.endswith('.png')]\n",
    "fake_images = [f for f in os.listdir(fake_images_dir) if f.endswith('.png')]"
   ]
  },
  {
   "cell_type": "code",
   "execution_count": null,
   "metadata": {},
   "outputs": [],
   "source": [
    "# 데이터 분할 (train: 80%, valid: 20%)\n",
    "train_real, valid_real = train_test_split(real_images, test_size=0.2, random_state=42)\n",
    "train_fake, valid_fake = train_test_split(fake_images, test_size=0.2, random_state=42)"
   ]
  },
  {
   "cell_type": "code",
   "execution_count": null,
   "metadata": {},
   "outputs": [],
   "source": [
    "# 파일을 해당 디렉토리로 이동하는 함수\n",
    "def move_files(file_list, src_dir, target_dir):\n",
    "    for file_name in file_list:\n",
    "        shutil.move(os.path.join(src_dir, file_name), target_dir)\n",
    "\n",
    "# 이미지 파일 이동\n",
    "move_files(train_real, real_images_dir, train_real_dir)\n",
    "move_files(valid_real, real_images_dir, valid_real_dir)\n",
    "\n",
    "move_files(train_fake, fake_images_dir, train_fake_dir)\n",
    "move_files(valid_fake, fake_images_dir, valid_fake_dir)"
   ]
  },
  {
   "cell_type": "markdown",
   "metadata": {},
   "source": []
  }
 ],
 "metadata": {
  "kernelspec": {
   "display_name": "torch2",
   "language": "python",
   "name": "python3"
  },
  "language_info": {
   "codemirror_mode": {
    "name": "ipython",
    "version": 3
   },
   "file_extension": ".py",
   "mimetype": "text/x-python",
   "name": "python",
   "nbconvert_exporter": "python",
   "pygments_lexer": "ipython3",
   "version": "3.9.17"
  }
 },
 "nbformat": 4,
 "nbformat_minor": 2
}
