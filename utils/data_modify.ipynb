{
 "cells": [
  {
   "cell_type": "code",
   "execution_count": 4,
   "metadata": {},
   "outputs": [],
   "source": [
    "import os\n",
    "from tqdm import tqdm\n",
    "from glob import glob\n",
    "import random\n",
    "import cv2\n",
    "from PIL import Image\n",
    "import numpy as np\n",
    "import albumentations as A\n",
    "import shutil"
   ]
  },
  {
   "cell_type": "code",
   "execution_count": 10,
   "metadata": {},
   "outputs": [],
   "source": [
    "def create_train_patched_images(input_folder_path, output_folder_path, patch_size=(224, 224)):\n",
    "    np.random.seed(42)\n",
    "    random.seed(42)\n",
    "\n",
    "    real_image_files = glob(os.path.join(input_folder_path, \"0_real_images/*.[pP][nN][gG]\"))\n",
    "    real_image_files += glob(os.path.join(input_folder_path, \"0_real_images/*.[jJ][pP][gG]\"))\n",
    "\n",
    "    fake_image_files = glob(os.path.join(input_folder_path, \"1_fake_images/*.[pP][nN][gG]\"))\n",
    "    fake_image_files += glob(os.path.join(input_folder_path, \"1_fake_images/*.[jJ][pP][gG]\"))\n",
    "    \n",
    "    # # Randomly sample images\n",
    "    # sample_size = 10000\n",
    "    # if len(real_image_files) > sample_size and len(fake_image_files) > sample_size:\n",
    "    #     real_image_files = random.sample(real_image_files, sample_size)\n",
    "    #     fake_image_files = random.sample(fake_image_files, sample_size)\n",
    "\n",
    "    # Processing real images\n",
    "    print(\"===========Real Image generating===========\")\n",
    "    os.makedirs(os.path.join(output_folder_path, '0_real_images'), exist_ok=True)\n",
    "    for image_file in tqdm(real_image_files):\n",
    "        image = Image.open(image_file)\n",
    "        w, h = image.size\n",
    "        output_file_base_name = os.path.basename(image_file).split('.')[0]\n",
    "\n",
    "        # If the image is smaller than the patch size, resize and save\n",
    "        if h <= patch_size[1] or w <= patch_size[0]:\n",
    "            resized_image = image.resize(patch_size)\n",
    "            output_file_path = os.path.join(output_folder_path, '0_real_images', f'{output_file_base_name}_resized.png')\n",
    "            resized_image.save(output_file_path)\n",
    "            continue\n",
    "\n",
    "        # If the image is larger than the patch size, extract patches\n",
    "        i = 0\n",
    "        for top in range(0, h, patch_size[1]):\n",
    "            for left in range(0, w, patch_size[0]):\n",
    "                right = min(w, left + patch_size[0])\n",
    "                bottom = min(h, top + patch_size[1])\n",
    "                \n",
    "                if (right - left) == patch_size[0] and (bottom - top) == patch_size[1]:\n",
    "                    patch = image.crop((left, top, right, bottom))\n",
    "                    output_file_path = os.path.join(output_folder_path, '0_real_images', f'{output_file_base_name}_patch_{i}.png')\n",
    "                    patch.save(output_file_path)\n",
    "                    i += 1\n",
    "\n",
    "    # Processing fake images\n",
    "    print(\"===========Fake Image generating===========\")\n",
    "    os.makedirs(os.path.join(output_folder_path, '1_fake_images'), exist_ok=True)\n",
    "    for image_file in tqdm(fake_image_files):\n",
    "        image = Image.open(image_file)\n",
    "        w, h = image.size\n",
    "        output_file_base_name = os.path.basename(image_file).split('.')[0]\n",
    "\n",
    "        # If the image is smaller than the patch size, resize and save\n",
    "        if h <= patch_size[1] or w <= patch_size[0]:\n",
    "            resized_image = image.resize(patch_size)\n",
    "            output_file_path = os.path.join(output_folder_path, '1_fake_images', f'{output_file_base_name}_resized.png')\n",
    "            resized_image.save(output_file_path)\n",
    "            continue\n",
    "\n",
    "        # If the image is larger than the patch size, extract patches\n",
    "        i = 0\n",
    "        for top in range(0, h, patch_size[1]):\n",
    "            for left in range(0, w, patch_size[0]):\n",
    "                right = min(w, left + patch_size[0])\n",
    "                bottom = min(h, top + patch_size[1])\n",
    "                \n",
    "                if (right - left) == patch_size[0] and (bottom - top) == patch_size[1]:\n",
    "                    patch = image.crop((left, top, right, bottom))\n",
    "                    output_file_path = os.path.join(output_folder_path, '1_fake_images', f'{output_file_base_name}_patch_{i}.png')\n",
    "                    patch.save(output_file_path)\n",
    "                    i += 1"
   ]
  },
  {
   "cell_type": "code",
   "execution_count": 11,
   "metadata": {},
   "outputs": [
    {
     "name": "stdout",
     "output_type": "stream",
     "text": [
      "===========Real Image generating===========\n"
     ]
    },
    {
     "name": "stderr",
     "output_type": "stream",
     "text": [
      "100%|██████████| 8000/8000 [04:32<00:00, 29.32it/s]\n"
     ]
    },
    {
     "name": "stdout",
     "output_type": "stream",
     "text": [
      "===========Fake Image generating===========\n"
     ]
    },
    {
     "name": "stderr",
     "output_type": "stream",
     "text": [
      "100%|██████████| 8000/8000 [13:09<00:00, 10.13it/s]\n"
     ]
    },
    {
     "name": "stdout",
     "output_type": "stream",
     "text": [
      "===========Real Image generating===========\n"
     ]
    },
    {
     "name": "stderr",
     "output_type": "stream",
     "text": [
      "100%|██████████| 2000/2000 [01:09<00:00, 28.94it/s]\n"
     ]
    },
    {
     "name": "stdout",
     "output_type": "stream",
     "text": [
      "===========Fake Image generating===========\n"
     ]
    },
    {
     "name": "stderr",
     "output_type": "stream",
     "text": [
      "100%|██████████| 2000/2000 [03:20<00:00,  9.96it/s]\n"
     ]
    }
   ],
   "source": [
    "create_train_patched_images('../../FakeImageDetection_Dataset/train', '../Dataset/patched_train')\n",
    "create_train_patched_images('../../FakeImageDetection_Dataset/valid', '../Dataset/patched_valid')"
   ]
  },
  {
   "cell_type": "code",
   "execution_count": 12,
   "metadata": {},
   "outputs": [],
   "source": [
    "def create_test_patched_images(input_image_path, save_path, crop_size=(224, 224), n_patch=5):\n",
    "    # Image loading\n",
    "    test_images = glob(f'{input_image_path}/*.png')\n",
    "\n",
    "    for i in range(n_patch):\n",
    "        os.makedirs(f'{save_path}/images_{i}', exist_ok=True)\n",
    "\n",
    "    # Define transforms\n",
    "    center_crop = A.CenterCrop(*crop_size, p=1.0)\n",
    "    random_crop = A.RandomCrop(*crop_size, p=1.0)\n",
    "    resize_transform = A.Resize(*crop_size, p=1.0)\n",
    "\n",
    "    print(\"===========Test Image generating===========\")\n",
    "    # Test image transforms\n",
    "    for img_path in tqdm(test_images):\n",
    "        img = cv2.imread(img_path)\n",
    "        img = cv2.cvtColor(img, cv2.COLOR_BGR2RGB)\n",
    "\n",
    "        h, w, _ = img.shape\n",
    "\n",
    "        # Check image size and apply appropriate transform\n",
    "        if h > crop_size[0] and w > crop_size[1]:\n",
    "            transformed = center_crop(image=img)\n",
    "            transformed_image = cv2.cvtColor(transformed['image'], cv2.COLOR_RGB2BGR)\n",
    "            cv2.imwrite(os.path.join(save_path, f'images_0', os.path.basename(img_path)), transformed_image)\n",
    "            for i in range(1, n_patch):\n",
    "                np.random.seed(i)\n",
    "                random.seed(i)\n",
    "                transformed = random_crop(image=img)\n",
    "                transformed_image = cv2.cvtColor(transformed['image'], cv2.COLOR_RGB2BGR)\n",
    "                cv2.imwrite(os.path.join(save_path, f'images_{i}', os.path.basename(img_path)), transformed_image)\n",
    "        elif h <= crop_size[0] or w <= crop_size[1]:\n",
    "            for i in range(n_patch):\n",
    "                transformed = resize_transform(image=img)\n",
    "                transformed_image = cv2.cvtColor(transformed['image'], cv2.COLOR_RGB2BGR)\n",
    "                cv2.imwrite(os.path.join(save_path, f'images_{i}', os.path.basename(img_path)), transformed_image)"
   ]
  },
  {
   "cell_type": "code",
   "execution_count": 13,
   "metadata": {},
   "outputs": [
    {
     "name": "stdout",
     "output_type": "stream",
     "text": [
      "===========Test Image generating===========\n"
     ]
    },
    {
     "name": "stderr",
     "output_type": "stream",
     "text": [
      "100%|██████████| 58348/58348 [22:04<00:00, 44.04it/s]\n"
     ]
    }
   ],
   "source": [
    "create_test_patched_images('../../test_data/images', '../Dataset/patched_test')"
   ]
  },
  {
   "cell_type": "code",
   "execution_count": 14,
   "metadata": {},
   "outputs": [],
   "source": [
    "def create_train_dct_images(input_image_path, save_path):\n",
    "    real_image_files = glob(os.path.join(input_image_path, \"0_real_images/*.[pP][nN][gG]\")) \n",
    "    fake_image_files = glob(os.path.join(input_image_path, \"1_fake_images/*.[pP][nN][gG]\"))\n",
    "\n",
    "    # Define subfolders for saving DCT images\n",
    "    real_dct_folder = os.path.join(save_path, '0_real_images')\n",
    "    fake_dct_folder = os.path.join(save_path, '1_fake_images')\n",
    "    \n",
    "    os.makedirs(real_dct_folder, exist_ok=True)\n",
    "    os.makedirs(fake_dct_folder, exist_ok=True)\n",
    "    \n",
    "    # Processing real images\n",
    "    print(\"===========Train Real Image DCT generating===========\")\n",
    "    for image_file in tqdm(real_image_files):\n",
    "        image = cv2.imread(image_file)\n",
    "        image = cv2.cvtColor(image, cv2.COLOR_BGR2RGB)\n",
    "        \n",
    "        # Perform DCT on each channel of the image\n",
    "        dct = np.zeros_like(image, dtype=np.float32)\n",
    "        for channel in range(3):\n",
    "            dct[:, :, channel] = cv2.dct(np.float32(image[:, :, channel]))/255.0\n",
    "            \n",
    "        output_file_base_name = os.path.basename(image_file).split('.')[0]\n",
    "        output_file_path = os.path.join(real_dct_folder, f'{output_file_base_name}_dct.png')\n",
    "        cv2.imwrite(output_file_path, dct * 255)  # Save the DCT image\n",
    "\n",
    "    # Processing fake images\n",
    "    print(\"===========Train Fake Image DCT generating===========\")\n",
    "    for image_file in tqdm(fake_image_files):\n",
    "        image = cv2.imread(image_file)\n",
    "        image = cv2.cvtColor(image, cv2.COLOR_BGR2RGB)\n",
    "        \n",
    "        # Perform DCT on each channel of the image\n",
    "        dct = np.zeros_like(image, dtype=np.float32)\n",
    "        for channel in range(3):\n",
    "            dct[:, :, channel] = cv2.dct(np.float32(image[:, :, channel]))/255.0\n",
    "            \n",
    "        output_file_base_name = os.path.basename(image_file).split('.')[0]\n",
    "        output_file_path = os.path.join(fake_dct_folder, f'{output_file_base_name}_dct.png')\n",
    "        cv2.imwrite(output_file_path, dct * 255)  # Save the DCT image"
   ]
  },
  {
   "cell_type": "code",
   "execution_count": 15,
   "metadata": {},
   "outputs": [],
   "source": [
    "def create_test_dct_images(input_folder_path, save_folder_path, n_patch):\n",
    "    for i in range(n_patch):\n",
    "        # Get image files\n",
    "        image_files = glob(os.path.join(input_folder_path, f\"images_{i}/*.[pP][nN][gG]\"))\n",
    "        # Create save directory if not exists\n",
    "        save_dir = os.path.join(save_folder_path, f'images_{i}')\n",
    "        os.makedirs(save_dir, exist_ok=True)\n",
    "        \n",
    "        # Processing images\n",
    "        print(f\"===========Test DCT Image generating for patch {i+1}/{n_patch}===========\")\n",
    "        for image_file in tqdm(image_files):\n",
    "            # Load and convert the image\n",
    "            image = cv2.imread(image_file)\n",
    "            image = cv2.cvtColor(image, cv2.COLOR_BGR2RGB)\n",
    "            # Perform DCT on each channel of the image\n",
    "            dct = np.zeros_like(image, dtype=np.float32)\n",
    "            for channel in range(3):\n",
    "                dct[:, :, channel] = cv2.dct(np.float32(image[:, :, channel])/255.0)\n",
    "            # Save the DCT transformed image\n",
    "            output_file_base_name = os.path.basename(image_file).split('.')[0]\n",
    "            output_file_path = os.path.join(save_dir, f'{output_file_base_name}.png')\n",
    "            cv2.imwrite(output_file_path, dct * 255)  # Save the DCT image"
   ]
  },
  {
   "cell_type": "code",
   "execution_count": 16,
   "metadata": {},
   "outputs": [
    {
     "name": "stdout",
     "output_type": "stream",
     "text": [
      "===========Train Real Image DCT generating===========\n"
     ]
    },
    {
     "name": "stderr",
     "output_type": "stream",
     "text": [
      "100%|██████████| 16349/16349 [01:28<00:00, 184.08it/s]\n"
     ]
    },
    {
     "name": "stdout",
     "output_type": "stream",
     "text": [
      "===========Train Fake Image DCT generating===========\n"
     ]
    },
    {
     "name": "stderr",
     "output_type": "stream",
     "text": [
      "100%|██████████| 44255/44255 [04:45<00:00, 154.84it/s]\n"
     ]
    },
    {
     "name": "stdout",
     "output_type": "stream",
     "text": [
      "===========Train Real Image DCT generating===========\n"
     ]
    },
    {
     "name": "stderr",
     "output_type": "stream",
     "text": [
      "100%|██████████| 4071/4071 [00:27<00:00, 150.25it/s]\n"
     ]
    },
    {
     "name": "stdout",
     "output_type": "stream",
     "text": [
      "===========Train Fake Image DCT generating===========\n"
     ]
    },
    {
     "name": "stderr",
     "output_type": "stream",
     "text": [
      "100%|██████████| 11124/11124 [01:17<00:00, 144.25it/s]\n"
     ]
    }
   ],
   "source": [
    "create_train_dct_images('../Dataset/patched_train', '../Dataset/dct_train')\n",
    "create_train_dct_images('../Dataset/patched_valid', '../Dataset/dct_valid')"
   ]
  },
  {
   "cell_type": "code",
   "execution_count": 17,
   "metadata": {},
   "outputs": [
    {
     "name": "stdout",
     "output_type": "stream",
     "text": [
      "===========Test DCT Image generating for patch 1/5===========\n"
     ]
    },
    {
     "name": "stderr",
     "output_type": "stream",
     "text": [
      "100%|██████████| 58348/58348 [06:25<00:00, 151.35it/s]\n"
     ]
    },
    {
     "name": "stdout",
     "output_type": "stream",
     "text": [
      "===========Test DCT Image generating for patch 2/5===========\n"
     ]
    },
    {
     "name": "stderr",
     "output_type": "stream",
     "text": [
      "100%|██████████| 58348/58348 [06:35<00:00, 147.38it/s]\n"
     ]
    },
    {
     "name": "stdout",
     "output_type": "stream",
     "text": [
      "===========Test DCT Image generating for patch 3/5===========\n"
     ]
    },
    {
     "name": "stderr",
     "output_type": "stream",
     "text": [
      "100%|██████████| 58348/58348 [06:25<00:00, 151.46it/s]\n"
     ]
    },
    {
     "name": "stdout",
     "output_type": "stream",
     "text": [
      "===========Test DCT Image generating for patch 4/5===========\n"
     ]
    },
    {
     "name": "stderr",
     "output_type": "stream",
     "text": [
      "100%|██████████| 58348/58348 [06:33<00:00, 148.44it/s]\n"
     ]
    },
    {
     "name": "stdout",
     "output_type": "stream",
     "text": [
      "===========Test DCT Image generating for patch 5/5===========\n"
     ]
    },
    {
     "name": "stderr",
     "output_type": "stream",
     "text": [
      "100%|██████████| 58348/58348 [06:29<00:00, 149.71it/s]\n"
     ]
    }
   ],
   "source": [
    "create_test_dct_images('../Dataset/patched_test', '../Dataset/dct_test', 5)"
   ]
  },
  {
   "cell_type": "code",
   "execution_count": 2,
   "metadata": {},
   "outputs": [],
   "source": [
    "def create_train_fft_images(input_image_path, save_path):\n",
    "    real_image_files = glob(os.path.join(input_image_path, \"0_real_images/*.[pP][nN][gG]\")) \n",
    "    fake_image_files = glob(os.path.join(input_image_path, \"1_fake_images/*.[pP][nN][gG]\"))\n",
    "\n",
    "    # Define subfolders for saving FFT images\n",
    "    real_fft_folder = os.path.join(save_path, '0_real_images')\n",
    "    fake_fft_folder = os.path.join(save_path, '1_fake_images')\n",
    "    \n",
    "    os.makedirs(real_fft_folder, exist_ok=True)\n",
    "    os.makedirs(fake_fft_folder, exist_ok=True)\n",
    "    \n",
    "    # Processing real images\n",
    "    print(\"===========Train Real Image FFT generating===========\")\n",
    "    for image_file in tqdm(real_image_files):\n",
    "        image = cv2.imread(image_file)\n",
    "        image = cv2.cvtColor(image, cv2.COLOR_BGR2RGB)\n",
    "        \n",
    "        # Perform FFT on each channel of the image\n",
    "        fft = np.zeros_like(image, dtype=np.float32)\n",
    "        for channel in range(3):\n",
    "            fft_channel = np.fft.fft2(image[:, :, channel])\n",
    "            fft_channel_magnitude = np.abs(fft_channel)\n",
    "            fft[:, :, channel] = np.log(fft_channel_magnitude + 1)  # use log scale for better visualization\n",
    "\n",
    "        output_file_base_name = os.path.basename(image_file).split('.')[0]\n",
    "        output_file_path = os.path.join(real_fft_folder, f'{output_file_base_name}_fft.png')\n",
    "        cv2.imwrite(output_file_path, cv2.normalize(fft, None, 0, 255, cv2.NORM_MINMAX))  # Save the FFT image\n",
    "\n",
    "    # Processing fake images\n",
    "    print(\"===========Train Fake Image FFT generating===========\")\n",
    "    for image_file in tqdm(fake_image_files):\n",
    "        image = cv2.imread(image_file)\n",
    "        image = cv2.cvtColor(image, cv2.COLOR_BGR2RGB)\n",
    "        \n",
    "        # Perform FFT on each channel of the image\n",
    "        fft = np.zeros_like(image, dtype=np.float32)\n",
    "        for channel in range(3):\n",
    "            fft_channel = np.fft.fft2(image[:, :, channel])\n",
    "            fft_channel_magnitude = np.abs(fft_channel)\n",
    "            fft[:, :, channel] = np.log(fft_channel_magnitude + 1)  # use log scale for better visualization\n",
    "\n",
    "        output_file_base_name = os.path.basename(image_file).split('.')[0]\n",
    "        output_file_path = os.path.join(fake_fft_folder, f'{output_file_base_name}_fft.png')\n",
    "        cv2.imwrite(output_file_path, cv2.normalize(fft, None, 0, 255, cv2.NORM_MINMAX))  # Save the FFT image"
   ]
  },
  {
   "cell_type": "code",
   "execution_count": 3,
   "metadata": {},
   "outputs": [],
   "source": [
    "def create_test_fft_images(input_folder_path, save_folder_path, n_patch):\n",
    "    for i in range(n_patch):\n",
    "        # Get image files\n",
    "        image_files = glob(os.path.join(input_folder_path, f\"images_{i}/*.[pP][nN][gG]\"))\n",
    "        # Create save directory if not exists\n",
    "        save_dir = os.path.join(save_folder_path, f'images_{i}')\n",
    "        os.makedirs(save_dir, exist_ok=True)\n",
    "        \n",
    "        # Processing images\n",
    "        print(f\"===========Test FFT Image generating for patch {i+1}/{n_patch}===========\")\n",
    "        for image_file in tqdm(image_files):\n",
    "            image = cv2.imread(image_file)\n",
    "            image = cv2.cvtColor(image, cv2.COLOR_BGR2RGB)\n",
    "            \n",
    "            # Perform FFT on each channel of the image\n",
    "            fft = np.zeros_like(image, dtype=np.float32)\n",
    "            for channel in range(3):\n",
    "                fft_channel = np.fft.fft2(image[:, :, channel])\n",
    "                fft_channel_magnitude = np.abs(fft_channel)\n",
    "                fft[:, :, channel] = np.log(fft_channel_magnitude + 1)  # use log scale for better visualization\n",
    "\n",
    "            output_file_base_name = os.path.basename(image_file).split('.')[0]\n",
    "            output_file_path = os.path.join(save_dir, f'{output_file_base_name}.png')\n",
    "            cv2.imwrite(output_file_path, cv2.normalize(fft, None, 0, 255, cv2.NORM_MINMAX))  # Save the FFT image"
   ]
  },
  {
   "cell_type": "code",
   "execution_count": 5,
   "metadata": {},
   "outputs": [
    {
     "name": "stdout",
     "output_type": "stream",
     "text": [
      "===========Train Real Image FFT generating===========\n"
     ]
    },
    {
     "name": "stderr",
     "output_type": "stream",
     "text": [
      "100%|██████████| 16349/16349 [02:09<00:00, 126.68it/s]\n"
     ]
    },
    {
     "name": "stdout",
     "output_type": "stream",
     "text": [
      "===========Train Fake Image FFT generating===========\n"
     ]
    },
    {
     "name": "stderr",
     "output_type": "stream",
     "text": [
      "100%|██████████| 44255/44255 [06:07<00:00, 120.55it/s]\n"
     ]
    },
    {
     "name": "stdout",
     "output_type": "stream",
     "text": [
      "===========Train Real Image FFT generating===========\n"
     ]
    },
    {
     "name": "stderr",
     "output_type": "stream",
     "text": [
      "100%|██████████| 4071/4071 [00:34<00:00, 117.08it/s]\n"
     ]
    },
    {
     "name": "stdout",
     "output_type": "stream",
     "text": [
      "===========Train Fake Image FFT generating===========\n"
     ]
    },
    {
     "name": "stderr",
     "output_type": "stream",
     "text": [
      "100%|██████████| 11124/11124 [01:34<00:00, 117.47it/s]\n"
     ]
    }
   ],
   "source": [
    "create_train_fft_images('../Dataset/patched_train', '../Dataset/fft_train')\n",
    "create_train_fft_images('../Dataset/patched_valid', '../Dataset/fft_valid')"
   ]
  },
  {
   "cell_type": "code",
   "execution_count": 6,
   "metadata": {},
   "outputs": [
    {
     "name": "stdout",
     "output_type": "stream",
     "text": [
      "===========Test FFT Image generating for patch 1/5===========\n"
     ]
    },
    {
     "name": "stderr",
     "output_type": "stream",
     "text": [
      "100%|██████████| 58348/58348 [08:33<00:00, 113.62it/s]\n"
     ]
    },
    {
     "name": "stdout",
     "output_type": "stream",
     "text": [
      "===========Test FFT Image generating for patch 2/5===========\n"
     ]
    },
    {
     "name": "stderr",
     "output_type": "stream",
     "text": [
      "100%|██████████| 58348/58348 [08:54<00:00, 109.19it/s]\n"
     ]
    },
    {
     "name": "stdout",
     "output_type": "stream",
     "text": [
      "===========Test FFT Image generating for patch 3/5===========\n"
     ]
    },
    {
     "name": "stderr",
     "output_type": "stream",
     "text": [
      "100%|██████████| 58348/58348 [08:53<00:00, 109.42it/s]\n"
     ]
    },
    {
     "name": "stdout",
     "output_type": "stream",
     "text": [
      "===========Test FFT Image generating for patch 4/5===========\n"
     ]
    },
    {
     "name": "stderr",
     "output_type": "stream",
     "text": [
      "100%|██████████| 58348/58348 [08:52<00:00, 109.51it/s]\n"
     ]
    },
    {
     "name": "stdout",
     "output_type": "stream",
     "text": [
      "===========Test FFT Image generating for patch 5/5===========\n"
     ]
    },
    {
     "name": "stderr",
     "output_type": "stream",
     "text": [
      "100%|██████████| 58348/58348 [09:07<00:00, 106.50it/s]\n"
     ]
    }
   ],
   "source": [
    "create_test_fft_images('../Dataset/patched_test', '../Dataset/fft_test', 5)"
   ]
  },
  {
   "cell_type": "code",
   "execution_count": null,
   "metadata": {},
   "outputs": [],
   "source": []
  }
 ],
 "metadata": {
  "kernelspec": {
   "display_name": "torch2",
   "language": "python",
   "name": "python3"
  },
  "language_info": {
   "codemirror_mode": {
    "name": "ipython",
    "version": 3
   },
   "file_extension": ".py",
   "mimetype": "text/x-python",
   "name": "python",
   "nbconvert_exporter": "python",
   "pygments_lexer": "ipython3",
   "version": "3.9.17"
  }
 },
 "nbformat": 4,
 "nbformat_minor": 2
}
