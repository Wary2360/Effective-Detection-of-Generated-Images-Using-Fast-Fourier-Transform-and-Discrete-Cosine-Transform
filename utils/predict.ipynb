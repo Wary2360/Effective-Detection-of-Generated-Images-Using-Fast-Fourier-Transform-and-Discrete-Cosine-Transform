{
 "cells": [
  {
   "cell_type": "code",
   "execution_count": 1,
   "metadata": {},
   "outputs": [
    {
     "name": "stdout",
     "output_type": "stream",
     "text": [
      "Loaded pretrained weights for efficientnet-b0\n"
     ]
    }
   ],
   "source": [
    "import os\n",
    "import torch\n",
    "import pandas as pd\n",
    "from torchvision import transforms, datasets\n",
    "from PIL import Image\n",
    "from glob import glob\n",
    "from efficientnet_pytorch import EfficientNet\n",
    "from torch.utils.data import DataLoader\n",
    "\n",
    "# 장비 설정\n",
    "device = torch.device('cuda' if torch.cuda.is_available() else 'cpu')\n",
    "\n",
    "# 1. 이미지 데이터 불러오기 및 전처리\n",
    "\n",
    "class ResizeIfNeeded:\n",
    "    def __call__(self, image):\n",
    "        # 이미지의 가로, 세로 길이를 확인\n",
    "        width, height = image.size\n",
    "        \n",
    "        # 가로 또는 세로 길이가 224 미만인 경우를 확인하여 크기를 늘림\n",
    "        new_width = width if width >= 224 else 224\n",
    "        new_height = height if height >= 224 else 224\n",
    "        \n",
    "        # 이미지 크기를 변경\n",
    "        resized_image = image.resize((new_width, new_height), Image.BICUBIC)\n",
    "        return resized_image\n",
    "\n",
    "transform = transforms.Compose([\n",
    "    # 가로 또는 세로가 224 미만일 경우 크기를 늘림\n",
    "    transforms.Lambda(ResizeIfNeeded()),\n",
    "    # 가로와 세로가 모두 224 이상일 경우 224x224로 랜덤 크롭\n",
    "    transforms.RandomCrop((224, 224)),\n",
    "    # 이미지를 PyTorch 텐서로 변환\n",
    "    transforms.ToTensor(),\n",
    "])\n",
    "\n",
    "# ImageFolder 사용\n",
    "dataset = datasets.ImageFolder(root='./test_data', transform=transform)\n",
    "batch_size = 256  # 원하는 배치 크기를 설정\n",
    "dataloader = DataLoader(dataset, batch_size=batch_size, shuffle=False)\n",
    "\n",
    "# 2. 모델 불러오기\n",
    "model = EfficientNet.from_pretrained('efficientnet-b0', num_classes=2)\n",
    "model.load_state_dict(torch.load('./model_state_dict.pth'))\n",
    "model = model.to(device)  # 장비 할당\n",
    "model.eval()  # 평가 모드로 전환"
   ]
  },
  {
   "cell_type": "code",
   "execution_count": null,
   "metadata": {},
   "outputs": [],
   "source": [
    "# 3. 예측하기\n",
    "predictions = []\n",
    "\n",
    "for images, _ in dataloader:  # 레이블은 사용하지 않음\n",
    "    images = images.to(device)  # 장비 할당\n",
    "    with torch.no_grad():\n",
    "        outputs = model(images)\n",
    "        prediction = outputs.argmax(dim=1).cpu().numpy()\n",
    "        predictions.extend(prediction)\n",
    "\n",
    "# 4. 결과 저장\n",
    "df = pd.read_csv('./test_data/sample_submission.csv')\n",
    "df['answer'] = predictions\n",
    "df.to_csv('./test_data/sample_submission.csv', index=False)"
   ]
  },
  {
   "cell_type": "code",
   "execution_count": 2,
   "metadata": {},
   "outputs": [
    {
     "ename": "NameError",
     "evalue": "name 'pd' is not defined",
     "output_type": "error",
     "traceback": [
      "\u001b[1;31m---------------------------------------------------------------------------\u001b[0m",
      "\u001b[1;31mNameError\u001b[0m                                 Traceback (most recent call last)",
      "\u001b[1;32mc:\\Users\\user\\Desktop\\Workspace\\Thesis\\generative_image_detection\\Personal Research\\Resarch 1\\predict.ipynb 셀 2\u001b[0m line \u001b[0;36m1\n\u001b[1;32m----> <a href='vscode-notebook-cell:/c%3A/Users/user/Desktop/Workspace/Thesis/generative_image_detection/Personal%20Research/Resarch%201/predict.ipynb#W1sZmlsZQ%3D%3D?line=0'>1</a>\u001b[0m df \u001b[39m=\u001b[39m pd\u001b[39m.\u001b[39mread_csv(\u001b[39m'\u001b[39m\u001b[39m./test_data/sample_submission.csv\u001b[39m\u001b[39m'\u001b[39m)\n\u001b[0;32m      <a href='vscode-notebook-cell:/c%3A/Users/user/Desktop/Workspace/Thesis/generative_image_detection/Personal%20Research/Resarch%201/predict.ipynb#W1sZmlsZQ%3D%3D?line=1'>2</a>\u001b[0m df[\u001b[39m'\u001b[39m\u001b[39manswer\u001b[39m\u001b[39m'\u001b[39m] \u001b[39m=\u001b[39m predictions\n\u001b[0;32m      <a href='vscode-notebook-cell:/c%3A/Users/user/Desktop/Workspace/Thesis/generative_image_detection/Personal%20Research/Resarch%201/predict.ipynb#W1sZmlsZQ%3D%3D?line=2'>3</a>\u001b[0m df\u001b[39m.\u001b[39mto_csv(\u001b[39m'\u001b[39m\u001b[39m./test_data/sample_submission.csv\u001b[39m\u001b[39m'\u001b[39m, index\u001b[39m=\u001b[39m\u001b[39mFalse\u001b[39;00m)\n",
      "\u001b[1;31mNameError\u001b[0m: name 'pd' is not defined"
     ]
    }
   ],
   "source": [
    "df = pd.read_csv('./test_data/sample_submission.csv')\n",
    "df['answer'] = predictions\n",
    "df.to_csv('./test_data/sample_submission.csv', index=False)"
   ]
  },
  {
   "cell_type": "code",
   "execution_count": 3,
   "metadata": {},
   "outputs": [
    {
     "name": "stdout",
     "output_type": "stream",
     "text": [
      "File saved successfully.\n"
     ]
    }
   ],
   "source": [
    "import pandas as pd\n",
    "\n",
    "# CSV 파일 불러오기\n",
    "df = pd.read_csv('test_data/sample_submission.csv')\n",
    "\n",
    "# 'answer' 컬럼의 1과 0을 바꾸기\n",
    "df['answer'] = 1 - df['answer']\n",
    "\n",
    "# 변경된 데이터프레임을 다시 CSV 파일로 저장하기\n",
    "df.to_csv('test_data/sample_submission_modified.csv', index=False)\n",
    "\n",
    "print(\"File saved successfully.\")"
   ]
  },
  {
   "cell_type": "code",
   "execution_count": null,
   "metadata": {},
   "outputs": [],
   "source": []
  }
 ],
 "metadata": {
  "kernelspec": {
   "display_name": "torch2",
   "language": "python",
   "name": "python3"
  },
  "language_info": {
   "codemirror_mode": {
    "name": "ipython",
    "version": 3
   },
   "file_extension": ".py",
   "mimetype": "text/x-python",
   "name": "python",
   "nbconvert_exporter": "python",
   "pygments_lexer": "ipython3",
   "version": "3.9.17"
  }
 },
 "nbformat": 4,
 "nbformat_minor": 2
}
